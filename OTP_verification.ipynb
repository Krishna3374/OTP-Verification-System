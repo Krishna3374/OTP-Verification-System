{
  "nbformat": 4,
  "nbformat_minor": 0,
  "metadata": {
    "colab": {
      "provenance": []
    },
    "kernelspec": {
      "name": "python3",
      "display_name": "Python 3"
    },
    "language_info": {
      "name": "python"
    }
  },
  "cells": [
    {
      "cell_type": "code",
      "source": [
        "# importing all the necessary libraries\n",
        "from random import randint\n",
        "from smtplib import SMTP\n",
        "from email.mime.multipart import MIMEMultipart\n",
        "from email.mime.text import MIMEText\n",
        "\n",
        "# function to generate otp of specified length\n",
        "def generate_otp(length):\n",
        "    lower_limit = 10 ** (length - 1)\n",
        "    upper_limit = 10 ** length - 1\n",
        "    otp = randint(lower_limit, upper_limit)\n",
        "    return otp"
      ],
      "metadata": {
        "id": "sBpE1VKm2ju-"
      },
      "execution_count": null,
      "outputs": []
    },
    {
      "cell_type": "code",
      "source": [
        "# function to send email with the generated otp\n",
        "def send_otp(to_email, otp, from_email, app_password):\n",
        "    # Create the email\n",
        "    msg = MIMEMultipart()\n",
        "    msg['From'] = from_email\n",
        "    msg['To'] = to_email\n",
        "    msg['Subject'] = 'OTP verification'\n",
        "\n",
        "    # define the body of the mail\n",
        "    body = f'Please enter the following OTP in your application for verification.\\n{otp}'\n",
        "\n",
        "    # Attach the email body\n",
        "    msg.attach(MIMEText(body, 'plain'))\n",
        "\n",
        "    try:\n",
        "        # Connect to the Gmail SMTP server\n",
        "        server = SMTP('smtp.gmail.com', 587)\n",
        "        server.starttls()  # Secure the connection\n",
        "        server.login(from_email, app_password)\n",
        "        server.send_message(msg)\n",
        "        server.quit()  # Close the connection\n",
        "\n",
        "        print('Email sent successfully!')\n",
        "    except Exception as e:\n",
        "        print(f'Failed to send email.\\n{e}')"
      ],
      "metadata": {
        "id": "lXteA4XVDb_C"
      },
      "execution_count": null,
      "outputs": []
    },
    {
      "cell_type": "code",
      "source": [
        "# function to validate the user entered otp with a provision of certain number of retries\n",
        "# fails if wrong otp number or alphanumeric characters are provided\n",
        "def validate_otp(otp, n_retries):\n",
        "    for i in range(n_retries):\n",
        "        value = input('\\nEnter the 6 digit OTP.\\n')\n",
        "        if not value.isdigit() and i < n_retries-1:\n",
        "            print('Incorrect OTP. Please retry.')\n",
        "        elif value.isdigit() and int(value) == otp:\n",
        "            print('Authentication passed.')\n",
        "            break\n",
        "        elif i < n_retries-1:\n",
        "            print('Incorrect OTP. Please retry.')\n",
        "        else:\n",
        "            print('\\nZero retries left.\\nAuthentication failed.')"
      ],
      "metadata": {
        "id": "1ZFfJuKAeNuL"
      },
      "execution_count": null,
      "outputs": []
    },
    {
      "cell_type": "code",
      "source": [
        "def execute_program(otp_length, to_email, from_email, app_password, n_retries):\n",
        "    otp = generate_otp(otp_length)\n",
        "\n",
        "    send_otp(to_email, otp, from_email, app_password)\n",
        "\n",
        "    validate_otp(otp, n_retries)"
      ],
      "metadata": {
        "id": "zOwC-UrnWiKw"
      },
      "execution_count": null,
      "outputs": []
    },
    {
      "cell_type": "code",
      "source": [
        "execute_program(\n",
        "    otp_length = 6,\n",
        "    to_email = 'receiver_email@example.com',\n",
        "    from_email = 'sender_email@gmail.com',\n",
        "    app_password = 'xxxx xxxx xxxx xxxx',\n",
        "    n_retries = 2\n",
        ")"
      ],
      "metadata": {
        "id": "nDu5Xp7Kh4wI"
      },
      "execution_count": null,
      "outputs": []
    }
  ]
}